{
 "cells": [
  {
   "cell_type": "markdown",
   "metadata": {},
   "source": [
    "# Sessie 05 - Continue Kansverdelingen - Oplossing\n",
    "\n",
    "Reken met kansen en kansverdelingen wordt toegepast in alle domeinen van ons leven, gaande van het uitrekenen van risico’s, het voorspellen van het weer, inschatten van de impact van een reclamecampagne op de omzetcijfers van een bedrijf, modelleren van de verspreiding van een (computer) virus, etc.\n",
    "\n",
    "De normaalverdeling is de meest gekende en gebruikte kansverdeling in de statistiek. Het is een continue klokvormige kansverdeling die symmetrisch verloopt rond het gemiddelde . Ze is hoog in het midden, en wordt naar lage en hoge waarden steeds kleiner zonder ooit echt nul te worden.\n",
    "De bedoeling van deze opdracht is om vlot overweg te kunnen met deze kansverdelingen bij het uitrekenen van kansen en het kunnen bepalen van de verwachte waarden van kansverdelingen.\n",
    "\n",
    "## Inhoud\n",
    "    • Kunnen nagaan of een reeks gegevens al dan niet normaal verdeeld zijn.\n",
    "    • Rekenen met en interpreteren van de normaalverdeling.\n",
    "    • Kunnen uitrekenen van kansen bij normaalverdeelde data\n",
    "    "
   ]
  },
  {
   "cell_type": "code",
   "execution_count": 1,
   "metadata": {},
   "outputs": [],
   "source": [
    "%matplotlib inline\n",
    "import matplotlib.pyplot as plt\n",
    "import pandas as pd\n",
    "import numpy as np\n",
    "import seaborn as sns\n",
    "from scipy import stats"
   ]
  },
  {
   "cell_type": "markdown",
   "metadata": {},
   "source": [
    "## Vraag 1\n",
    "Bereken onderstaande kansen met behulp van Python en vergelijk deze waarden met deze van de tabel."
   ]
  },
  {
   "cell_type": "code",
   "execution_count": 2,
   "metadata": {},
   "outputs": [
    {
     "name": "stdout",
     "output_type": "stream",
     "text": [
      "0.04745968180294733\n"
     ]
    }
   ],
   "source": [
    "# P(Z < -1,67) - standaardnormaalverdeling met gemiddelde 0 en standaardafwijking 1\n",
    "\n",
    "p  = stats.norm.cdf(-1.67,loc=0,scale=1)\n",
    "print(p)"
   ]
  },
  {
   "cell_type": "code",
   "execution_count": 3,
   "metadata": {},
   "outputs": [
    {
     "name": "stdout",
     "output_type": "stream",
     "text": [
      "0.005233608163555782\n"
     ]
    }
   ],
   "source": [
    "# P(Z > 2,56 ) - standaardnormaalverdeling met gemiddelde 0 en standaardafwijking 1\n",
    "p  = stats.norm.sf(2.56,loc=0,scale=1)\n",
    "print(p)\n"
   ]
  },
  {
   "cell_type": "code",
   "execution_count": 4,
   "metadata": {},
   "outputs": [
    {
     "name": "stdout",
     "output_type": "stream",
     "text": [
      "0.08048080251909406\n"
     ]
    }
   ],
   "source": [
    "# P(1,34 < Z < 2,34) - standaardnormaalverdeling met gemiddelde 0 en standaardafwijking 1\n",
    "p = stats.norm.cdf(2.34,loc=0,scale=1)-stats.norm.cdf(1.34,loc=0,scale=1)\n",
    "print(p)"
   ]
  },
  {
   "cell_type": "code",
   "execution_count": 5,
   "metadata": {},
   "outputs": [
    {
     "name": "stdout",
     "output_type": "stream",
     "text": [
      "0.9772498680518208\n"
     ]
    }
   ],
   "source": [
    "# X~N(50;5)   P(X<60) -normaalverdeling met gemiddelde 50 en standaardafwijking 5\n",
    "p = stats.norm.cdf(60,loc=50,scale=5)\n",
    "print(p)"
   ]
  },
  {
   "cell_type": "code",
   "execution_count": 6,
   "metadata": {},
   "outputs": [
    {
     "name": "stdout",
     "output_type": "stream",
     "text": [
      "0.9937903346742238\n"
     ]
    }
   ],
   "source": [
    "# X~N(5;1)   P(X > 2,5) -normaalverdeling met gemiddelde 5 en standaardafwijking 1\n",
    "p  = stats.norm.sf(2.5,loc=5,scale=1)\n",
    "print(p)"
   ]
  },
  {
   "cell_type": "code",
   "execution_count": 7,
   "metadata": {},
   "outputs": [
    {
     "name": "stdout",
     "output_type": "stream",
     "text": [
      "0.6826894921370859\n"
     ]
    }
   ],
   "source": [
    "# X~N(120;6)   P(114 < X < 126) - normaalverdeling met gemiddelde 120 en standaardafwijking 6\n",
    "p = stats.norm.cdf(126,loc=120,scale=6)-stats.norm.cdf(114,loc=120,scale=6)\n",
    "print(p)"
   ]
  },
  {
   "cell_type": "markdown",
   "metadata": {},
   "source": [
    "## Vraag 2\n",
    "\n",
    "Een omvormer voor zonnepanelen zorgt ervoor dat de opgewekte gelijkstroom door de zonnepanelen wordt omgezet in bruikbare wisselstroom voor ons huishouden. \n",
    "De MTTF (Mean Time To Failure = gemiddelde levensduur) van een bepaald type omvormer bedraagt  10 jaar met een standaardafwijking van 3 jaar.\n",
    "De garantieperiode op deze omvormer is 5 jaar.\n"
   ]
  },
  {
   "cell_type": "markdown",
   "metadata": {},
   "source": [
    "a. Wat is de kans dat een omvormer binnen de garantieperiode stuk gaat?"
   ]
  },
  {
   "cell_type": "code",
   "execution_count": 1,
   "metadata": {},
   "outputs": [
    {
     "ename": "NameError",
     "evalue": "name 'stats' is not defined",
     "output_type": "error",
     "traceback": [
      "\u001b[1;31m---------------------------------------------------------------------------\u001b[0m",
      "\u001b[1;31mNameError\u001b[0m                                 Traceback (most recent call last)",
      "\u001b[1;32m<ipython-input-1-0f2a9bfb1827>\u001b[0m in \u001b[0;36m<module>\u001b[1;34m\u001b[0m\n\u001b[1;32m----> 1\u001b[1;33m \u001b[0mp\u001b[0m \u001b[1;33m=\u001b[0m \u001b[0mstats\u001b[0m\u001b[1;33m.\u001b[0m\u001b[0mnorm\u001b[0m\u001b[1;33m.\u001b[0m\u001b[0mcdf\u001b[0m\u001b[1;33m(\u001b[0m\u001b[1;36m5\u001b[0m\u001b[1;33m,\u001b[0m\u001b[0mloc\u001b[0m\u001b[1;33m=\u001b[0m\u001b[1;36m10\u001b[0m\u001b[1;33m,\u001b[0m\u001b[0mscale\u001b[0m\u001b[1;33m=\u001b[0m\u001b[1;36m3\u001b[0m\u001b[1;33m)\u001b[0m\u001b[1;33m\u001b[0m\u001b[1;33m\u001b[0m\u001b[0m\n\u001b[0m\u001b[0;32m      2\u001b[0m \u001b[0mprint\u001b[0m\u001b[1;33m(\u001b[0m\u001b[1;34m'kans dat de omvormer binnen de garantieperiode stuk gaat is'\u001b[0m\u001b[1;33m,\u001b[0m\u001b[0mp\u001b[0m\u001b[1;33m)\u001b[0m\u001b[1;33m\u001b[0m\u001b[1;33m\u001b[0m\u001b[0m\n",
      "\u001b[1;31mNameError\u001b[0m: name 'stats' is not defined"
     ]
    }
   ],
   "source": [
    "p = stats.norm.cdf(5,loc=10,scale=3)\n",
    "print('kans dat de omvormer binnen de garantieperiode stuk gaat is',p)"
   ]
  },
  {
   "cell_type": "markdown",
   "metadata": {},
   "source": [
    "b. Stel dat de zonnepanelen zelf na 20 jaar worden vernieuwd. Wat is de kans dat gedurende deze periode de omvormer nooit vervangen dient te worden?\n",
    "    "
   ]
  },
  {
   "cell_type": "code",
   "execution_count": 9,
   "metadata": {},
   "outputs": [
    {
     "name": "stdout",
     "output_type": "stream",
     "text": [
      "kans dat een omvormer nooit hoeft vervangen te worden in 20 jaar: 0.0004290603331968372\n"
     ]
    }
   ],
   "source": [
    "p = stats.norm.sf(20,loc=10,scale=3)\n",
    "print('kans dat een omvormer nooit hoeft vervangen te worden in 20 jaar:',p)"
   ]
  },
  {
   "cell_type": "markdown",
   "metadata": {},
   "source": [
    "c. Wat is de kans dat de omvormer stuk gaat tussen de 5 jaar en de 20 jaar en je dus niet op de garantie kunt terugvallen?"
   ]
  },
  {
   "cell_type": "code",
   "execution_count": 10,
   "metadata": {},
   "outputs": [
    {
     "name": "stdout",
     "output_type": "stream",
     "text": [
      "kans stuk tussen 5 jaar en 20 jaar: 0.9517805873939885\n"
     ]
    }
   ],
   "source": [
    "p = stats.norm.cdf(20,loc=10,scale=3)- stats.norm.cdf(5,loc=10,scale=3)\n",
    "print('kans stuk tussen 5 jaar en 20 jaar:',p)"
   ]
  },
  {
   "cell_type": "markdown",
   "metadata": {},
   "source": [
    "d. Na hoeveel jaar moet je de omvormer vervangen om ervoor te zorgen dat je minder dan 10% kans hebt dat je met een kapotte omvormer komt te zitten?"
   ]
  },
  {
   "cell_type": "code",
   "execution_count": 11,
   "metadata": {},
   "outputs": [
    {
     "name": "stdout",
     "output_type": "stream",
     "text": [
      "6.1553453033661985 jaar\n",
      "6.1553453033661985 jaar\n"
     ]
    }
   ],
   "source": [
    "x = stats.norm.isf(0.9,loc=10,scale=3) \n",
    "print(x,'jaar')\n",
    "\n",
    "# alternatief\n",
    "\n",
    "x = stats.norm.ppf(0.1,loc=10,scale=3)\n",
    "print(x,'jaar')\n"
   ]
  },
  {
   "cell_type": "markdown",
   "metadata": {},
   "source": [
    "## Vraag 3\n",
    "\n",
    "Aan een toelatingsexamen nemen 200 kandidaten deel voor 40 plaatsen. De uitslag is normaal verdeeld. De gemiddelde uitslag bedraagt 70% en de standaardafwijking is 10%. "
   ]
  },
  {
   "cell_type": "markdown",
   "metadata": {},
   "source": [
    "a. Welk percentage is vereist om aangenomen te worden indien men de 40 besten aanwerft ?"
   ]
  },
  {
   "cell_type": "code",
   "execution_count": 12,
   "metadata": {},
   "outputs": [
    {
     "name": "stdout",
     "output_type": "stream",
     "text": [
      "vereiste score: 78.41621233572914\n"
     ]
    }
   ],
   "source": [
    "x = stats.norm.isf(40/200,loc=70,scale=10)\n",
    "print('vereiste score:',x)"
   ]
  },
  {
   "cell_type": "markdown",
   "metadata": {},
   "source": [
    "b. Ann haalt 58 en Joachim 75. Hoeveel kandidaten komen er in de rangschikking tussen Ann en Joachim?"
   ]
  },
  {
   "cell_type": "code",
   "execution_count": 13,
   "metadata": {},
   "outputs": [
    {
     "name": "stdout",
     "output_type": "stream",
     "text": [
      "aantal kandidaten tussen Ann en Joahim 115.0\n"
     ]
    }
   ],
   "source": [
    "p = stats.norm.cdf(75,loc=70,scale=10) - stats.norm.cdf(58,loc=70,scale=10)\n",
    "print('aantal kandidaten tussen Ann en Joahim',np.round(p*200))"
   ]
  },
  {
   "cell_type": "markdown",
   "metadata": {},
   "source": [
    "## Vraag 4\n",
    "\n",
    "De BMI is een index die de verhouding tussen lengte en gewicht bij een persoon weergeeft. De BMI wordt veel gebruikt om een indicatie te krijgen of er sprake is van overgewicht of ondergewicht.\n",
    "Om de BMI van een persoon te berekenen deel je zijn/haar gewicht door het kwadraat van de lengte. Het gewicht wordt daarbij uitgedrukt in kilogram, de lengte in meter.\n",
    "Weegt een persoon bijvoorbeeld 67kg en meet deze persoon 172cm, dan is de BMI gelijk aan:\n",
    "$\\frac{67}{1,72^2}=22,65$\n",
    "\n",
    "Alhoewel de BMI niet altijd even betrouwbaar is hanteert men volgende tabel om de BMI te interpreteren.\n",
    "\n",
    "| BMI | Interpretatie |\n",
    "   ----------------  |  ------------- \n",
    "| 18,5 tot en met 25 | Normaal gewicht |\n",
    "| 25 tot en met 27 | Licht overgewicht |\n",
    "| 27 tot en met 30 | Matig overgewicht |\n",
    "| 30 tot en met 40 | Ernstig overgewicht |\n",
    "| Meer dan 40      | Ziekelijk overgewicht\n",
    "\n",
    "Het bestand BMI.csv bevat lengtes en gewichten van personen die tijdens een steekproef werden opgemeten.\n",
    "\n",
    "a. Voeg een kolom toe aan de dataset met daarin het berekende BMI van elke persoon. Gebruik daarvoor\n",
    "    de pandas insert functie: dataset.insert(). Zie: https://pandas.pydata.org/pandas-docs/stable/reference/api/pandas.DataFrame.insert.html\n",
    "    \n",
    "b. Teken een histogram van alle BMI waarden en ga na of deze normaal verdeeld zijn. \n",
    "    Bepaal daarvoor het gemiddelde en de standaardafwijking. Teken nu bovenop het histogram de theoretische normaalverdeling die overeen komt met het bekomen gemiddelde en de standaardafwijking. Ga ook na of ongeveer 68% van de BMI waarden binnen 1 standaardafwijking van het gemiddelde liggen en ongeveer 95 procent van de BMI waarden binnen de 2 standaardafwijkingen van het gemiddelde.\n",
    "    \n",
    "c. Herhaal het gevraagde onder vraag b, maar splits op in mannen en vrouwen. Op deze manier kunnen we straks per geslacht aparte conclusies trekken.\n",
    "    \n",
    "d. Is er een groot verschil tussen de distributie van het BMI van mannen en deze van vrouwen?\n",
    "\n",
    "e. Hoeveel procent van de mannen in de dataset heeft minstens ernstig overgewicht en hoeveel procent vrouwen in de dataset?\n",
    "\n",
    "f. Hoeveel procent van de populatie (niet de steekproef) mannen heeft minstens te maken met een ernstig overgewicht? En hoeveel procent van de vrouwen?\n",
    "    \n",
    "g. Hoeveel procent van de populatie (niet de steekproef) mannen heeft een ondergewicht? En hoeveel procent van de vrouwen? Veronderstel dat de steekproef representatief is voor de populatie.\n",
    "    \n",
    "h. Ga na of er uitschieters in de dataset aanwezig zijn. Uitschieters kan je hier beschouwen als de BMI gewichten die meer dan 3 standaardafwijkingen van het gemiddelde liggen."
   ]
  },
  {
   "cell_type": "code",
   "execution_count": 25,
   "metadata": {},
   "outputs": [
    {
     "data": {
      "text/html": [
       "<div>\n",
       "<style scoped>\n",
       "    .dataframe tbody tr th:only-of-type {\n",
       "        vertical-align: middle;\n",
       "    }\n",
       "\n",
       "    .dataframe tbody tr th {\n",
       "        vertical-align: top;\n",
       "    }\n",
       "\n",
       "    .dataframe thead th {\n",
       "        text-align: right;\n",
       "    }\n",
       "</style>\n",
       "<table border=\"1\" class=\"dataframe\">\n",
       "  <thead>\n",
       "    <tr style=\"text-align: right;\">\n",
       "      <th></th>\n",
       "      <th>Gewicht</th>\n",
       "      <th>Lengte</th>\n",
       "      <th>Geslacht</th>\n",
       "    </tr>\n",
       "  </thead>\n",
       "  <tbody>\n",
       "    <tr>\n",
       "      <th>0</th>\n",
       "      <td>65.6</td>\n",
       "      <td>174.0</td>\n",
       "      <td>man</td>\n",
       "    </tr>\n",
       "    <tr>\n",
       "      <th>1</th>\n",
       "      <td>71.8</td>\n",
       "      <td>175.3</td>\n",
       "      <td>man</td>\n",
       "    </tr>\n",
       "    <tr>\n",
       "      <th>2</th>\n",
       "      <td>80.7</td>\n",
       "      <td>193.5</td>\n",
       "      <td>man</td>\n",
       "    </tr>\n",
       "    <tr>\n",
       "      <th>3</th>\n",
       "      <td>72.6</td>\n",
       "      <td>186.5</td>\n",
       "      <td>man</td>\n",
       "    </tr>\n",
       "    <tr>\n",
       "      <th>4</th>\n",
       "      <td>78.8</td>\n",
       "      <td>187.2</td>\n",
       "      <td>man</td>\n",
       "    </tr>\n",
       "  </tbody>\n",
       "</table>\n",
       "</div>"
      ],
      "text/plain": [
       "   Gewicht  Lengte Geslacht\n",
       "0     65.6   174.0      man\n",
       "1     71.8   175.3      man\n",
       "2     80.7   193.5      man\n",
       "3     72.6   186.5      man\n",
       "4     78.8   187.2      man"
      ]
     },
     "execution_count": 25,
     "metadata": {},
     "output_type": "execute_result"
    }
   ],
   "source": [
    "# Inlezen van de dataset\n",
    "\n",
    "dataset = pd.read_csv('BMI.csv')\n",
    "dataset.head()"
   ]
  },
  {
   "cell_type": "code",
   "execution_count": 26,
   "metadata": {},
   "outputs": [
    {
     "data": {
      "text/html": [
       "<div>\n",
       "<style scoped>\n",
       "    .dataframe tbody tr th:only-of-type {\n",
       "        vertical-align: middle;\n",
       "    }\n",
       "\n",
       "    .dataframe tbody tr th {\n",
       "        vertical-align: top;\n",
       "    }\n",
       "\n",
       "    .dataframe thead th {\n",
       "        text-align: right;\n",
       "    }\n",
       "</style>\n",
       "<table border=\"1\" class=\"dataframe\">\n",
       "  <thead>\n",
       "    <tr style=\"text-align: right;\">\n",
       "      <th></th>\n",
       "      <th>Gewicht</th>\n",
       "      <th>Lengte</th>\n",
       "      <th>Geslacht</th>\n",
       "      <th>BMI</th>\n",
       "    </tr>\n",
       "  </thead>\n",
       "  <tbody>\n",
       "    <tr>\n",
       "      <th>0</th>\n",
       "      <td>65.6</td>\n",
       "      <td>174.0</td>\n",
       "      <td>man</td>\n",
       "      <td>21.667327</td>\n",
       "    </tr>\n",
       "    <tr>\n",
       "      <th>1</th>\n",
       "      <td>71.8</td>\n",
       "      <td>175.3</td>\n",
       "      <td>man</td>\n",
       "      <td>23.364722</td>\n",
       "    </tr>\n",
       "    <tr>\n",
       "      <th>2</th>\n",
       "      <td>80.7</td>\n",
       "      <td>193.5</td>\n",
       "      <td>man</td>\n",
       "      <td>21.553192</td>\n",
       "    </tr>\n",
       "    <tr>\n",
       "      <th>3</th>\n",
       "      <td>72.6</td>\n",
       "      <td>186.5</td>\n",
       "      <td>man</td>\n",
       "      <td>20.872715</td>\n",
       "    </tr>\n",
       "    <tr>\n",
       "      <th>4</th>\n",
       "      <td>78.8</td>\n",
       "      <td>187.2</td>\n",
       "      <td>man</td>\n",
       "      <td>22.486120</td>\n",
       "    </tr>\n",
       "  </tbody>\n",
       "</table>\n",
       "</div>"
      ],
      "text/plain": [
       "   Gewicht  Lengte Geslacht        BMI\n",
       "0     65.6   174.0      man  21.667327\n",
       "1     71.8   175.3      man  23.364722\n",
       "2     80.7   193.5      man  21.553192\n",
       "3     72.6   186.5      man  20.872715\n",
       "4     78.8   187.2      man  22.486120"
      ]
     },
     "execution_count": 26,
     "metadata": {},
     "output_type": "execute_result"
    }
   ],
   "source": [
    "# a. Voeg een kolom toe aan de dataset met daarin het berekende BMI van elke persoon...\n",
    "\n",
    "\n",
    "dataset.insert(3,'BMI',dataset['Gewicht']/(dataset['Lengte']/100)**2)\n",
    "dataset.head()"
   ]
  },
  {
   "cell_type": "code",
   "execution_count": 27,
   "metadata": {},
   "outputs": [
    {
     "name": "stdout",
     "output_type": "stream",
     "text": [
      "gemiddelde: 23.463384417269726\n",
      "standaardafwijking: 3.273258875437302\n",
      "percentage binnen 1 standaardafwijking: 70.01972386587771 %\n",
      "percentage binnen 2 standaardafwijking: 96.25246548323472 %\n",
      "percentage binnen 3 standaardafwijking: 99.40828402366864 %\n"
     ]
    },
    {
     "data": {
      "image/png": "[encoded data removed]",
      "text/plain": [
       "<Figure size 432x288 with 1 Axes>"
      ]
     },
     "metadata": {
      "needs_background": "light"
     },
     "output_type": "display_data"
    }
   ],
   "source": [
    "# b. Teken een histogram van alle BMI waarden en ga na of deze normaal verdeeld zijn.\n",
    "sns.distplot(dataset['BMI'].values,kde=False)\n",
    "\n",
    "gemiddelde = dataset['BMI'].mean()\n",
    "stdafwijking = dataset['BMI'].std()\n",
    "print('gemiddelde:', gemiddelde)\n",
    "print('standaardafwijking:', stdafwijking)\n",
    "\n",
    "# percentage waarden binnen 1 standaardafwijking rond gemiddelde:\n",
    "aantal_1_sigma = dataset[(dataset['BMI']>(gemiddelde-stdafwijking)) & (dataset['BMI']<(gemiddelde+stdafwijking))].BMI.count()\n",
    "print('percentage binnen 1 standaardafwijking:', aantal_1_sigma/dataset['BMI'].count()*100,'%')\n",
    "\n",
    "# percentage waarden binnen 2 standaardafwijkingen rond gemiddelde:\n",
    "aantal_2_sigma = dataset[(dataset['BMI']>(gemiddelde-2*stdafwijking)) & (dataset['BMI']<(gemiddelde+2*stdafwijking))].BMI.count()\n",
    "print('percentage binnen 2 standaardafwijking:', aantal_2_sigma/dataset['BMI'].count()*100,'%')\n",
    "\n",
    "# percentage waarden binnen 3 standaardafwijkingen rond gemiddelde:\n",
    "aantal_3_sigma = dataset[(dataset['BMI']>(gemiddelde-3*stdafwijking)) & (dataset['BMI']<(gemiddelde+3*stdafwijking))].BMI.count()\n",
    "print('percentage binnen 3 standaardafwijking:', aantal_3_sigma/dataset['BMI'].count()*100,'%')"
   ]
  },
  {
   "cell_type": "code",
   "execution_count": 39,
   "metadata": {},
   "outputs": [
    {
     "name": "stdout",
     "output_type": "stream",
     "text": [
      "percentage binnen 1 standaardafwijking bij mannen: 70.8502024291498 %\n",
      "percentage binnen 2 standaardafwijkingen bij mannen: 96.35627530364373 %\n",
      "percentage binnen 3 standaardafwijkingen bij mannen: 99.59514170040485 %\n"
     ]
    },
    {
     "data": {
      "text/plain": [
       "[(15, 40)]"
      ]
     },
     "execution_count": 39,
     "metadata": {},
     "output_type": "execute_result"
    },
    {
     "data": {
      "image/png": "[encoded data removed]",
      "text/plain": [
       "<Figure size 432x288 with 2 Axes>"
      ]
     },
     "metadata": {
      "needs_background": "light"
     },
     "output_type": "display_data"
    },
    {
     "data": {
      "image/png": "[encoded data removed]",
      "text/plain": [
       "<Figure size 432x288 with 2 Axes>"
      ]
     },
     "metadata": {
      "needs_background": "light"
     },
     "output_type": "display_data"
    }
   ],
   "source": [
    "# c. Herhaal het gevraagde onder vraag b, maar splits op in mannen en vrouwen... \n",
    "\n",
    "dataset_man = dataset[dataset['Geslacht']=='man']\n",
    "dataset_vrouw = dataset[dataset['Geslacht']=='vrouw']\n",
    "\n",
    "gemiddelde_man = dataset_man['BMI'].mean()\n",
    "gemiddelde_vrouw = dataset_vrouw['BMI'].mean()\n",
    "\n",
    "stdafwijking_man = dataset_man['BMI'].std()\n",
    "stdafwijking_vrouw = dataset_vrouw['BMI'].std()\n",
    "\n",
    "\n",
    "# percentage waarden binnen 1 standaardafwijking rond gemiddelde bij mannen:\n",
    "aantal_1_sigma_man = dataset_man[(dataset_man['BMI']>(gemiddelde_man-stdafwijking_man)) & (dataset_man['BMI']<(gemiddelde_man+stdafwijking_man))].BMI.count()\n",
    "print('percentage binnen 1 standaardafwijking bij mannen:', aantal_1_sigma_man/dataset_man['BMI'].count()*100,'%')\n",
    "\n",
    "# percentage waarden binnen 2 standaardafwijkingen rond gemiddelde bij mannen:\n",
    "aantal_2_sigma_man = dataset_man[(dataset_man['BMI']>(gemiddelde_man-2*stdafwijking_man)) & (dataset_man['BMI']<(gemiddelde_man+2*stdafwijking_man))].BMI.count()\n",
    "print('percentage binnen 2 standaardafwijkingen bij mannen:', aantal_2_sigma_man/dataset_man['BMI'].count()*100,'%')\n",
    "\n",
    "# percentage waarden binnen 3 standaardafwijkingen rond gemiddelde bij mannen:\n",
    "aantal_3_sigma_man = dataset_man[(dataset_man['BMI']>(gemiddelde_man-3*stdafwijking_man)) & (dataset_man['BMI']<(gemiddelde_man+3*stdafwijking_man))].BMI.count()\n",
    "print('percentage binnen 3 standaardafwijkingen bij mannen:', aantal_3_sigma_man/dataset_man['BMI'].count()*100,'%')\n",
    "\n",
    "# Histogrammen\n",
    "\n",
    "# Maken van subplots\n",
    "f, axes = plt.subplots(1, 2)\n",
    "\n",
    "sns.distplot(dataset_man['BMI'].values,kde=False,ax=axes[0])\n",
    "axes[0].set_title('BMI man')\n",
    "sns.distplot(dataset_vrouw['BMI'].values,kde=False,ax=axes[1])\n",
    "axes[1].set_title('BMI vrouw')\n",
    "\n"
   ]
  },
  {
   "cell_type": "code",
   "execution_count": 40,
   "metadata": {},
   "outputs": [
    {
     "data": {
      "text/plain": [
       "[(15, 40)]"
      ]
     },
     "execution_count": 40,
     "metadata": {},
     "output_type": "execute_result"
    },
    {
     "data": {
      "image/png": "[encoded data removed]",
      "text/plain": [
       "<Figure size 432x288 with 2 Axes>"
      ]
     },
     "metadata": {
      "needs_background": "light"
     },
     "output_type": "display_data"
    }
   ],
   "source": [
    "# d. Is er een groot verschil tussen de distributie van het BMI van mannen en deze van vrouwen? Verklaar ...\n",
    "# Boxplots\n",
    "f, axes = plt.subplots(1, 2)\n",
    "\n",
    "sns.boxplot(dataset_man['BMI'],whis = 1.5, orient='v',ax=axes[0])\n",
    "axes[0].set_title('BMI man')\n",
    "axes[0].set(ylim=(15, 40))\n",
    "sns.boxplot(dataset_vrouw['BMI'],whis = 1.5, orient='v',ax=axes[1])\n",
    "axes[1].set_title('BMI vrouw')\n",
    "axes[1].set(ylim=(15, 40))"
   ]
  },
  {
   "cell_type": "code",
   "execution_count": 45,
   "metadata": {},
   "outputs": [
    {
     "name": "stdout",
     "output_type": "stream",
     "text": [
      "aantal mannen in de dataset met minstens ernstig overgewicht: 9\n",
      "aantal vrouwen in de dataset met minstens ernstig overgewicht: 9\n",
      "aantal procent mannen in de dataset met minstens ernstig overgewicht 3.643724696356275 %\n",
      "aantal procent vrouwen in de dataset met minstens ernstig overgewicht 3.4615384615384617 %\n"
     ]
    }
   ],
   "source": [
    "# e. Hoeveel procent van de mannen in de dataset heeft minstens ernstig overgewicht en hoeveel procent vrouwen in de dataset?\n",
    "\n",
    "aantal_man = dataset_man[dataset_man['BMI']>30].BMI.count()\n",
    "print('aantal mannen in de dataset met minstens ernstig overgewicht:', aantal_man)\n",
    "\n",
    "aantal_vrouw = dataset_vrouw[dataset_vrouw['BMI']>30].BMI.count()\n",
    "print('aantal vrouwen in de dataset met minstens ernstig overgewicht:', aantal_vrouw)\n",
    "\n",
    "print('aantal procent mannen in de dataset met minstens ernstig overgewicht',(aantal_man/dataset_man['BMI'].count())*100,'%')\n",
    "print('aantal procent vrouwen in de dataset met minstens ernstig overgewicht',(aantal_vrouw/dataset_vrouw['BMI'].count())*100,'%')\n"
   ]
  },
  {
   "cell_type": "code",
   "execution_count": 47,
   "metadata": {},
   "outputs": [
    {
     "name": "stdout",
     "output_type": "stream",
     "text": [
      "percentage mannen met minstens ernstige overgewicht: 3.1515204643118833 %\n",
      "percentage vrouwen met minstens ernstige overgewicht: 3.1515204643118833 %\n"
     ]
    }
   ],
   "source": [
    "# f. Hoeveel procent van de populatie (niet de steekproef) mannen heeft minstens te maken met \n",
    "#    een ernstig overgewicht? En hoeveel procent van de vrouwen?\n",
    "\n",
    "p_man = stats.norm.sf(30,loc=gemiddelde_man,scale=stdafwijking_man)\n",
    "print('percentage mannen met minstens ernstige overgewicht:', p_man*100,'%')\n",
    "\n",
    "p_vrouw = stats.norm.sf(30,loc=gemiddelde_vrouw,scale=stdafwijking_vrouw)\n",
    "print('percentage vrouwen met minstens ernstige overgewicht:', p_man*100,'%')\n",
    "\n"
   ]
  },
  {
   "cell_type": "code",
   "execution_count": 48,
   "metadata": {},
   "outputs": [
    {
     "name": "stdout",
     "output_type": "stream",
     "text": [
      "percentage mannen met ondergewicht: 1.4509900954662431 %\n",
      "percentage vrouwen met ondergewicht: 1.4509900954662431 %\n"
     ]
    }
   ],
   "source": [
    "# g. Hoeveel procent van de populatie (niet de steekproef) mannen heeft een ondergewicht? \n",
    "#    En hoeveel procent van de vrouwen? Veronderstel dat de steekproef representatief is voor de populatie.\n",
    "\n",
    "p_man = stats.norm.cdf(18.5,loc=gemiddelde_man,scale=stdafwijking_man)\n",
    "print('percentage mannen met ondergewicht:', p_man*100,'%')\n",
    "\n",
    "p_vrouw = stats.norm.sf(18.5,loc=gemiddelde_vrouw,scale=stdafwijking_vrouw)\n",
    "print('percentage vrouwen met ondergewicht:', p_man*100,'%')\n"
   ]
  },
  {
   "cell_type": "code",
   "execution_count": 51,
   "metadata": {},
   "outputs": [
    {
     "name": "stdout",
     "output_type": "stream",
     "text": [
      "Aantal uitschieters: 3\n"
     ]
    }
   ],
   "source": [
    "# h. Ga na of er uitschieters in de dataset aanwezig zijn. \n",
    "#    Uitschieters kan je hier beschouwen als de BMI gewichten die meer dan 3 standaardafwijkingen\n",
    "#    van het gemiddelde liggen.\n",
    "\n",
    "\n",
    "upper_limit = gemiddelde + 3*stdafwijking\n",
    "lower_limit = gemiddelde - 3*stdafwijking\n",
    "\n",
    "\n",
    "outliers = dataset[(dataset['BMI']<lower_limit) | (dataset['BMI']>upper_limit)]\n",
    "outliers.head()\n",
    "\n",
    "print('Aantal uitschieters:',outliers['BMI'].count())\n"
   ]
  },
  {
   "cell_type": "markdown",
   "metadata": {},
   "source": [
    "## Vraag 5\n",
    "Een kledingfabrikant wil een nieuwe riem op de markt brengen. Er is een variant voor mannen en een variant voor vrouwen. Elke variant komt in smal, medium en large.\n",
    "Elk soort riem is qua lengte als volgt verstelbaar:\n",
    "\n",
    "\n",
    "|      Variant       | Mannen| Vrouwen |\n",
    "|------------|-----|---------------|\n",
    "| Smal |  Van 80 cm tot 92 cm|  Van 78 cm tot 90 cm|\n",
    "| Medium | Van 90 cm tot 105 cm| Van 85 cm tot 100 cm|\n",
    "| Large | Van 102 cm tot 115 cm  | Van 95 cm tot 112 cm|\n",
    "\n",
    "\n",
    "Om een inschatting te kunnen maken van de productieaantallen laat de fabrikant een onderzoek uitvoeren naar de heupomtrek bij mannen en vrouwen. De gegevens kan je terugvinden onder het bestand 'riemen.csv'.\n"
   ]
  },
  {
   "cell_type": "code",
   "execution_count": 53,
   "metadata": {},
   "outputs": [
    {
     "data": {
      "text/html": [
       "<div>\n",
       "<style scoped>\n",
       "    .dataframe tbody tr th:only-of-type {\n",
       "        vertical-align: middle;\n",
       "    }\n",
       "\n",
       "    .dataframe tbody tr th {\n",
       "        vertical-align: top;\n",
       "    }\n",
       "\n",
       "    .dataframe thead th {\n",
       "        text-align: right;\n",
       "    }\n",
       "</style>\n",
       "<table border=\"1\" class=\"dataframe\">\n",
       "  <thead>\n",
       "    <tr style=\"text-align: right;\">\n",
       "      <th></th>\n",
       "      <th>Heupomtrek</th>\n",
       "      <th>Geslacht</th>\n",
       "    </tr>\n",
       "  </thead>\n",
       "  <tbody>\n",
       "    <tr>\n",
       "      <th>0</th>\n",
       "      <td>93.5</td>\n",
       "      <td>M</td>\n",
       "    </tr>\n",
       "    <tr>\n",
       "      <th>1</th>\n",
       "      <td>94.8</td>\n",
       "      <td>M</td>\n",
       "    </tr>\n",
       "    <tr>\n",
       "      <th>2</th>\n",
       "      <td>95.0</td>\n",
       "      <td>M</td>\n",
       "    </tr>\n",
       "    <tr>\n",
       "      <th>3</th>\n",
       "      <td>94.0</td>\n",
       "      <td>M</td>\n",
       "    </tr>\n",
       "    <tr>\n",
       "      <th>4</th>\n",
       "      <td>98.5</td>\n",
       "      <td>M</td>\n",
       "    </tr>\n",
       "  </tbody>\n",
       "</table>\n",
       "</div>"
      ],
      "text/plain": [
       "   Heupomtrek Geslacht\n",
       "0        93.5        M\n",
       "1        94.8        M\n",
       "2        95.0        M\n",
       "3        94.0        M\n",
       "4        98.5        M"
      ]
     },
     "execution_count": 53,
     "metadata": {},
     "output_type": "execute_result"
    }
   ],
   "source": [
    "dataset = pd.read_csv('riemen.csv')\n",
    "dataset.head()"
   ]
  },
  {
   "cell_type": "markdown",
   "metadata": {},
   "source": [
    "a. Ga na of deze data normaalverdeeld is. Doe dit door de kansverdeling te plotten en door na te gaan hoeveel procent van de gegevens binnen de 1, 2 en 3 standaardafwijkingen is gelegen. Vergelijk met de werkelijke normaalverdeling die hoort bij het berekende gemiddelde en standaardafwijking.  Doe de analyse apart voor mannen en vrouwen."
   ]
  },
  {
   "cell_type": "code",
   "execution_count": 55,
   "metadata": {},
   "outputs": [
    {
     "name": "stdout",
     "output_type": "stream",
     "text": [
      "gemiddelde: 96.68086785009861\n",
      "standaardafwijking: 6.68062273998198\n",
      "percentage binnen 1 standaardafwijking: 68.63905325443787 %\n",
      "percentage binnen 2 standaardafwijking: 95.85798816568047 %\n",
      "percentage binnen 3 standaardafwijking: 99.60552268244575 %\n"
     ]
    },
    {
     "data": {
      "image/png": "[encoded data removed]",
      "text/plain": [
       "<Figure size 432x288 with 1 Axes>"
      ]
     },
     "metadata": {
      "needs_background": "light"
     },
     "output_type": "display_data"
    }
   ],
   "source": [
    "sns.distplot(dataset['Heupomtrek'].values,kde=False)\n",
    "\n",
    "gemiddelde = dataset['Heupomtrek'].mean()\n",
    "stdafwijking = dataset['Heupomtrek'].std()\n",
    "print('gemiddelde:', gemiddelde)\n",
    "print('standaardafwijking:', stdafwijking)\n",
    "\n",
    "# percentage waarden binnen 1 standaardafwijking rond gemiddelde:\n",
    "aantal_1_sigma = dataset[(dataset['Heupomtrek']>(gemiddelde-stdafwijking)) & (dataset['Heupomtrek']<(gemiddelde+stdafwijking))].Heupomtrek.count()\n",
    "print('percentage binnen 1 standaardafwijking:', aantal_1_sigma/dataset['Heupomtrek'].count()*100,'%')\n",
    "\n",
    "# percentage waarden binnen 2 standaardafwijkingen rond gemiddelde:\n",
    "aantal_2_sigma = dataset[(dataset['Heupomtrek']>(gemiddelde-2*stdafwijking)) & (dataset['Heupomtrek']<(gemiddelde+2*stdafwijking))].Heupomtrek.count()\n",
    "print('percentage binnen 2 standaardafwijking:', aantal_2_sigma/dataset['Heupomtrek'].count()*100,'%')\n",
    "\n",
    "# percentage waarden binnen 3 standaardafwijkingen rond gemiddelde:\n",
    "aantal_3_sigma = dataset[(dataset['Heupomtrek']>(gemiddelde-3*stdafwijking)) & (dataset['Heupomtrek']<(gemiddelde+3*stdafwijking))].Heupomtrek.count()\n",
    "print('percentage binnen 3 standaardafwijking:', aantal_3_sigma/dataset['Heupomtrek'].count()*100,'%')"
   ]
  },
  {
   "cell_type": "markdown",
   "metadata": {},
   "source": [
    "b. Vergelijk de maten van de mannen en de vrouwen in termen van gemiddelde en spreiding."
   ]
  },
  {
   "cell_type": "code",
   "execution_count": 61,
   "metadata": {},
   "outputs": [
    {
     "name": "stdout",
     "output_type": "stream",
     "text": [
      "mannen: gemiddelde heupomtrek: 97.76315789473684 standaardafwijking 6.228042645198816\n",
      "vrouwen: gemiddelde heupomtrek: 95.6526923076923 standaardafwijking 6.94072757621269\n"
     ]
    },
    {
     "data": {
      "text/plain": [
       "[(70, 130)]"
      ]
     },
     "execution_count": 61,
     "metadata": {},
     "output_type": "execute_result"
    },
    {
     "data": {
      "image/png": "[encoded data removed]",
      "text/plain": [
       "<Figure size 432x288 with 2 Axes>"
      ]
     },
     "metadata": {
      "needs_background": "light"
     },
     "output_type": "display_data"
    }
   ],
   "source": [
    "dataset_man = dataset[dataset['Geslacht']=='M']\n",
    "dataset_vrouw = dataset[dataset['Geslacht']=='V']\n",
    "\n",
    "gemiddelde_man = dataset_man['Heupomtrek'].mean()\n",
    "gemiddelde_vrouw = dataset_vrouw['Heupomtrek'].mean()\n",
    "\n",
    "stdafwijking_man = dataset_man['Heupomtrek'].std()\n",
    "stdafwijking_vrouw = dataset_vrouw['Heupomtrek'].std()\n",
    "\n",
    "print('mannen:','gemiddelde heupomtrek:',gemiddelde_man,'standaardafwijking',stdafwijking_man)\n",
    "print('vrouwen:','gemiddelde heupomtrek:',gemiddelde_vrouw,'standaardafwijking',stdafwijking_vrouw)\n",
    "\n",
    "f, axes = plt.subplots(1, 2)\n",
    "\n",
    "sns.boxplot(dataset_man['Heupomtrek'],whis = 1.5, orient='v',ax=axes[0])\n",
    "axes[0].set_title('Heupomtrek man')\n",
    "axes[0].set(ylim=(70, 130))\n",
    "sns.boxplot(dataset_vrouw['Heupomtrek'],whis = 1.5, orient='v',ax=axes[1])\n",
    "axes[1].set_title('Heupomtrek vrouw')\n",
    "axes[1].set(ylim=(70, 130))"
   ]
  },
  {
   "cell_type": "markdown",
   "metadata": {},
   "source": [
    "c. In de veronderstelling dat de data normaalverdeeld is, bereken telkens **voor de populatie** hoeveel procent van de mannen maat smal, medium en large kan dragen. Doe dit ook voor vrouwen. Vul daarbij onderstaande tabel aan.\n",
    "\n",
    "|       Variant     | Mannen| Vrouwen |\n",
    "|------------|-----:|---------------:|\n",
    "| Smal |     %|     %|\n",
    "| Medium |     %|     %|\n",
    "| Large |      %|     %|\n",
    "\n"
   ]
  },
  {
   "cell_type": "code",
   "execution_count": 69,
   "metadata": {},
   "outputs": [
    {
     "name": "stdout",
     "output_type": "stream",
     "text": [
      "percentage smal mannen: 17.521892726795976 %\n",
      "percentage medium mannen: 77.10842800249837 %\n",
      "percentage large mannen: 24.533872493332865 %\n",
      "percentage smal vrouwen: 20.22113873536974 %\n",
      "percentage medium vrouwen: 67.20411417760879 %\n",
      "percentage large vrouwen: 52.820597118371346 %\n"
     ]
    }
   ],
   "source": [
    "print('percentage smal mannen:',(stats.norm.cdf(92,loc=gemiddelde_man,scale=stdafwijking_man)-stats.norm.cdf(80,loc=gemiddelde_man,scale=stdafwijking_man))*100,'%')\n",
    "print('percentage medium mannen:',(stats.norm.cdf(105,loc=gemiddelde_man,scale=stdafwijking_man)-stats.norm.cdf(90,loc=gemiddelde_man,scale=stdafwijking_man))*100,'%')\n",
    "print('percentage large mannen:',(stats.norm.cdf(115,loc=gemiddelde_man,scale=stdafwijking_man)-stats.norm.cdf(102,loc=gemiddelde_man,scale=stdafwijking_man))*100,'%')\n",
    "\n",
    "print('percentage smal vrouwen:',(stats.norm.cdf(90,loc=gemiddelde_vrouw,scale=stdafwijking_vrouw)-stats.norm.cdf(78,loc=gemiddelde_vrouw,scale=stdafwijking_vrouw))*100,'%')\n",
    "print('percentage medium vrouwen:',(stats.norm.cdf(100,loc=gemiddelde_vrouw,scale=stdafwijking_vrouw)-stats.norm.cdf(85,loc=gemiddelde_vrouw,scale=stdafwijking_vrouw))*100,'%')\n",
    "print('percentage large vrouwen:',(stats.norm.cdf(112,loc=gemiddelde_vrouw,scale=stdafwijking_vrouw)-stats.norm.cdf(95,loc=gemiddelde_vrouw,scale=stdafwijking_vrouw))*100,'%')\n",
    "\n"
   ]
  },
  {
   "cell_type": "markdown",
   "metadata": {},
   "source": [
    "d. Bij hoeveel procent van de mannen past zowel smal als medium?"
   ]
  },
  {
   "cell_type": "code",
   "execution_count": 70,
   "metadata": {},
   "outputs": [
    {
     "name": "stdout",
     "output_type": "stream",
     "text": [
      "87.52061905171354 %\n"
     ]
    }
   ],
   "source": [
    "print((stats.norm.cdf(105,loc=gemiddelde_man,scale=stdafwijking_man)-stats.norm.cdf(80,loc=gemiddelde_man,scale=stdafwijking_man))*100,'%')"
   ]
  },
  {
   "cell_type": "markdown",
   "metadata": {},
   "source": [
    "e. Bij hoeveel procent van de vrouwen past zowel medium als large?"
   ]
  },
  {
   "cell_type": "code",
   "execution_count": 71,
   "metadata": {},
   "outputs": [
    {
     "name": "stdout",
     "output_type": "stream",
     "text": [
      "92.83300917649396 %\n"
     ]
    }
   ],
   "source": [
    "print((stats.norm.cdf(112,loc=gemiddelde_vrouw,scale=stdafwijking_vrouw)-stats.norm.cdf(85,loc=gemiddelde_vrouw,scale=stdafwijking_vrouw))*100,'%')\n"
   ]
  },
  {
   "cell_type": "markdown",
   "metadata": {},
   "source": [
    "f. Bij hoeveel procent van de mannen past geen enkele maat?"
   ]
  },
  {
   "cell_type": "code",
   "execution_count": 75,
   "metadata": {},
   "outputs": [
    {
     "name": "stdout",
     "output_type": "stream",
     "text": [
      "0.002171399035861967\n",
      "0.0028233811196947977\n",
      "procent van de mannen waarbij geen enkele maat past: 0.49947801555567645 %\n"
     ]
    }
   ],
   "source": [
    "p_te_klein = stats.norm.cdf(80,loc=gemiddelde_man,scale=stdafwijking_man)\n",
    "print(p_te_klein)\n",
    "p_te_groot = stats.norm.sf(115,loc=gemiddelde_man,scale=stdafwijking_man)\n",
    "print(p_te_groot)\n",
    "print('procent van de mannen waarbij geen enkele maat past:',(p_te_klein+p_te_groot)*100,'%')\n"
   ]
  },
  {
   "cell_type": "markdown",
   "metadata": {},
   "source": [
    "g. Bij hoeveel procent van de vrouwen past geen enkele maat?"
   ]
  },
  {
   "cell_type": "code",
   "execution_count": 76,
   "metadata": {},
   "outputs": [
    {
     "name": "stdout",
     "output_type": "stream",
     "text": [
      "0.012060554038929187\n",
      "0.002655787788767497\n",
      "procent van de vrouwen waarbij geen enkele maat past: 1.4716341827696684 %\n"
     ]
    }
   ],
   "source": [
    "p_te_klein = stats.norm.cdf(80,loc=gemiddelde_vrouw,scale=stdafwijking_vrouw)\n",
    "print(p_te_klein)\n",
    "p_te_groot = stats.norm.sf(115,loc=gemiddelde_vrouw,scale=stdafwijking_vrouw)\n",
    "print(p_te_groot)\n",
    "print('procent van de vrouwen waarbij geen enkele maat past:',(p_te_klein+p_te_groot)*100,'%')"
   ]
  }
 ],
 "metadata": {
  "kernelspec": {
   "display_name": "Python 3",
   "language": "python",
   "name": "python3"
  },
  "language_info": {
   "codemirror_mode": {
    "name": "ipython",
    "version": 3
   },
   "file_extension": ".py",
   "mimetype": "text/x-python",
   "name": "python",
   "nbconvert_exporter": "python",
   "pygments_lexer": "ipython3",
   "version": "3.7.4"
  }
 },
 "nbformat": 4,
 "nbformat_minor": 4
}
