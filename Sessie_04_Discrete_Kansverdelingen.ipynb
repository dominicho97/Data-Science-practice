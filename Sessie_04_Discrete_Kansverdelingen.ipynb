{
 "cells": [
  {
   "cell_type": "markdown",
   "metadata": {},
   "source": [
    "# Discrete kansverdelingen - opdracht"
   ]
  },
  {
   "cell_type": "code",
   "execution_count": 1,
   "metadata": {},
   "outputs": [],
   "source": [
    "%matplotlib inline\n",
    "import matplotlib.pyplot as plt\n",
    "import pandas as pd\n",
    "import numpy as np\n",
    "import seaborn as sns\n",
    "from scipy import stats"
   ]
  },
  {
   "cell_type": "markdown",
   "metadata": {},
   "source": [
    "## Binomiale verdeling\n",
    "\n",
    "Weigh in motion is een geautomatiseerde manier om het gewicht van vrachtwagens te meten door middel van sensoren in het wegdek . Wanneer de vrachtwagen voorbij rijdt wordt zijn lengte, snelheid, gewicht en nummerplaat geregistreerd. Vrachtwagens die overladen zijn kunnen op die manier zeer snel opgespoord en beboet worden. \n",
    "Het maximaal toegelaten gewicht van vrachtwagens op Belgische wegen hangt onder andere af van het aantal assen waarmee de oplegger is uitgerust. Wij gaan bij deze oefening uit van een overgewicht wanneer de meting 40 ton overschrijdt.\n",
    "\n",
    "Het bestand 'wim.csv' bevat 1000 opeenvolgende wegingen van vrachtwagens. De gewichten worden uitgedrukt in ton (=duizend kilo). Gebruik en verwerk deze informatie om onderstaande vragen te beantwoorden.\n",
    "\n",
    "    a. Van de volgende 200 vrachtwagens, hoeveel zullen er naar verwachting overladen zijn?\n",
    "    \n",
    "    b. Wat is de kans dat van de volgende 10 vrachtwagens er geen enkele overladen is?\n",
    "    \n",
    "    c. Wat is de kans dat van de volgende 10 vrachtwagens er exact 2 overladen zijn?\n",
    "    \n",
    "    d. Wat is de kans dat drie opeenvolgende vrachtwagens overladen zijn?\n",
    "    \n",
    "    e. Wat is de kans dat van de komende 20 vrachtwagens er minder dan 5 overladen zijn?\n",
    "    \n",
    "    f. Wat is de kans dat van de komende 20 vrachtwagens er meer dan de helf overladen is?\n",
    "    \n",
    "Bepaal in eerste instantie op basis van de data de kans op een overtreding. Deze kans kan je vervolgens verder in de berekeningen gebruiken. "
   ]
  },
  {
   "cell_type": "code",
   "execution_count": 3,
   "metadata": {},
   "outputs": [
    {
     "data": {
      "text/html": [
       "<div>\n",
       "<style scoped>\n",
       "    .dataframe tbody tr th:only-of-type {\n",
       "        vertical-align: middle;\n",
       "    }\n",
       "\n",
       "    .dataframe tbody tr th {\n",
       "        vertical-align: top;\n",
       "    }\n",
       "\n",
       "    .dataframe thead th {\n",
       "        text-align: right;\n",
       "    }\n",
       "</style>\n",
       "<table border=\"1\" class=\"dataframe\">\n",
       "  <thead>\n",
       "    <tr style=\"text-align: right;\">\n",
       "      <th></th>\n",
       "      <th>Gewicht</th>\n",
       "    </tr>\n",
       "  </thead>\n",
       "  <tbody>\n",
       "    <tr>\n",
       "      <th>0</th>\n",
       "      <td>20</td>\n",
       "    </tr>\n",
       "    <tr>\n",
       "      <th>1</th>\n",
       "      <td>23</td>\n",
       "    </tr>\n",
       "    <tr>\n",
       "      <th>2</th>\n",
       "      <td>9</td>\n",
       "    </tr>\n",
       "    <tr>\n",
       "      <th>3</th>\n",
       "      <td>30</td>\n",
       "    </tr>\n",
       "    <tr>\n",
       "      <th>4</th>\n",
       "      <td>35</td>\n",
       "    </tr>\n",
       "    <tr>\n",
       "      <th>5</th>\n",
       "      <td>44</td>\n",
       "    </tr>\n",
       "    <tr>\n",
       "      <th>6</th>\n",
       "      <td>24</td>\n",
       "    </tr>\n",
       "    <tr>\n",
       "      <th>7</th>\n",
       "      <td>44</td>\n",
       "    </tr>\n",
       "    <tr>\n",
       "      <th>8</th>\n",
       "      <td>48</td>\n",
       "    </tr>\n",
       "    <tr>\n",
       "      <th>9</th>\n",
       "      <td>52</td>\n",
       "    </tr>\n",
       "    <tr>\n",
       "      <th>10</th>\n",
       "      <td>19</td>\n",
       "    </tr>\n",
       "    <tr>\n",
       "      <th>11</th>\n",
       "      <td>30</td>\n",
       "    </tr>\n",
       "    <tr>\n",
       "      <th>12</th>\n",
       "      <td>37</td>\n",
       "    </tr>\n",
       "    <tr>\n",
       "      <th>13</th>\n",
       "      <td>23</td>\n",
       "    </tr>\n",
       "    <tr>\n",
       "      <th>14</th>\n",
       "      <td>27</td>\n",
       "    </tr>\n",
       "    <tr>\n",
       "      <th>15</th>\n",
       "      <td>41</td>\n",
       "    </tr>\n",
       "    <tr>\n",
       "      <th>16</th>\n",
       "      <td>38</td>\n",
       "    </tr>\n",
       "    <tr>\n",
       "      <th>17</th>\n",
       "      <td>50</td>\n",
       "    </tr>\n",
       "    <tr>\n",
       "      <th>18</th>\n",
       "      <td>20</td>\n",
       "    </tr>\n",
       "    <tr>\n",
       "      <th>19</th>\n",
       "      <td>47</td>\n",
       "    </tr>\n",
       "  </tbody>\n",
       "</table>\n",
       "</div>"
      ],
      "text/plain": [
       "    Gewicht\n",
       "0        20\n",
       "1        23\n",
       "2         9\n",
       "3        30\n",
       "4        35\n",
       "5        44\n",
       "6        24\n",
       "7        44\n",
       "8        48\n",
       "9        52\n",
       "10       19\n",
       "11       30\n",
       "12       37\n",
       "13       23\n",
       "14       27\n",
       "15       41\n",
       "16       38\n",
       "17       50\n",
       "18       20\n",
       "19       47"
      ]
     },
     "execution_count": 3,
     "metadata": {},
     "output_type": "execute_result"
    }
   ],
   "source": [
    "# Inlezen van de dataset\n",
    "\n",
    "dataset = pd.read_csv('wim.csv')\n",
    "dataset.head(20)"
   ]
  },
  {
   "cell_type": "code",
   "execution_count": 5,
   "metadata": {},
   "outputs": [
    {
     "name": "stdout",
     "output_type": "stream",
     "text": [
      "totaal aantal:  [1000]\n",
      "aantal overtredingen [246]\n",
      "kans op overtreding:  [0.246]\n"
     ]
    }
   ],
   "source": [
    "# Bepalen van de kans op een overtreding\n",
    "\n",
    "\n",
    "overtredingen = (dataset.loc[(dataset['Gewicht']>40)].count()).values\n",
    "\n",
    "totaal = (dataset.count()).values\n",
    "\n",
    "print('totaal aantal: ', totaal)\n",
    "print('aantal overtredingen', overtredingen)\n",
    "\n",
    "p = overtredingen/totaal\n",
    "\n",
    "print('kans op overtreding: ',p)"
   ]
  },
  {
   "cell_type": "code",
   "execution_count": 6,
   "metadata": {},
   "outputs": [
    {
     "name": "stdout",
     "output_type": "stream",
     "text": [
      "aantal overladen vrachtwagens:  [49.2]\n",
      "kans: [0.05939002]\n",
      "kans: [0.28448115]\n",
      "kans:  [0.01488694]\n",
      "kans:  [0.4311542]\n",
      "kans: [0.00344174]\n"
     ]
    }
   ],
   "source": [
    "#    a. Van de volgende 200 vrachtwagens, hoeveel zullen er naar verwachting overladen zijn?\n",
    "\n",
    "print('aantal overladen vrachtwagens: ',200*p)\n",
    "\n",
    "    \n",
    "#    b. Wat is de kans dat van de volgende 10 vrachtwagens er geen enkele overladen is?\n",
    "\n",
    "print('kans:', stats.binom.pmf(0,10,p))\n",
    "\n",
    "    \n",
    "#    c. Wat is de kans dat van de volgende 10 vrachtwagens er exact 2 overladen zijn?\n",
    "\n",
    "print('kans:', stats.binom.pmf(2,10,p))\n",
    "\n",
    "    \n",
    "#    d. Wat is de kans dat drie opeenvolgende vrachtwagens overladen zijn?\n",
    "\n",
    "print('kans: ', p**3)\n",
    "\n",
    "#    e. Wat is de kans dat van de komende 20 vrachtwagens er minder dan 5 overladen zijn?\n",
    "\n",
    "print ('kans: ',stats.binom.cdf(4,20,p))\n",
    "\n",
    "    \n",
    "#    f. Wat is de kans dat van de komende 20 vrachtwagens er meer dan de helft overladen is?\n",
    "\n",
    "print('kans:', 1-stats.binom.cdf(10,20,p))"
   ]
  },
  {
   "cell_type": "markdown",
   "metadata": {},
   "source": [
    "## Poisson verdeling\n",
    "\n",
    "Een bepaalde webserver krijgt per seconde een hoeveelheid requests te verwerken. Een log van het aantal requests per seconde kan je vinden in het webserver.csv. Gebruik deze informatie om onderstaande vragen te beantwoorden. Je mag ervan uitgaan dat het aantal requests Poisson is verdeeld.\n",
    "\n",
    "    a. Bepaal de verwachtingswaarde λ. Gebruik deze waarde in de verdere berekeningen.\n",
    "    \n",
    "    b. Bepaal de kans dat de server minder dan 45 requests per seconde te verwerken krijgt.\n",
    "    \n",
    "    c. Het maximaal aantal requests per seconde die de server kan verwerken ligt op 80. Bepaal de kans dat de server plat gaat door een teveel aan requests.\n",
    "    "
   ]
  },
  {
   "cell_type": "code",
   "execution_count": 7,
   "metadata": {},
   "outputs": [
    {
     "data": {
      "text/html": [
       "<div>\n",
       "<style scoped>\n",
       "    .dataframe tbody tr th:only-of-type {\n",
       "        vertical-align: middle;\n",
       "    }\n",
       "\n",
       "    .dataframe tbody tr th {\n",
       "        vertical-align: top;\n",
       "    }\n",
       "\n",
       "    .dataframe thead th {\n",
       "        text-align: right;\n",
       "    }\n",
       "</style>\n",
       "<table border=\"1\" class=\"dataframe\">\n",
       "  <thead>\n",
       "    <tr style=\"text-align: right;\">\n",
       "      <th></th>\n",
       "      <th>Requests</th>\n",
       "    </tr>\n",
       "  </thead>\n",
       "  <tbody>\n",
       "    <tr>\n",
       "      <th>0</th>\n",
       "      <td>57</td>\n",
       "    </tr>\n",
       "    <tr>\n",
       "      <th>1</th>\n",
       "      <td>63</td>\n",
       "    </tr>\n",
       "    <tr>\n",
       "      <th>2</th>\n",
       "      <td>53</td>\n",
       "    </tr>\n",
       "    <tr>\n",
       "      <th>3</th>\n",
       "      <td>57</td>\n",
       "    </tr>\n",
       "    <tr>\n",
       "      <th>4</th>\n",
       "      <td>54</td>\n",
       "    </tr>\n",
       "  </tbody>\n",
       "</table>\n",
       "</div>"
      ],
      "text/plain": [
       "   Requests\n",
       "0        57\n",
       "1        63\n",
       "2        53\n",
       "3        57\n",
       "4        54"
      ]
     },
     "execution_count": 7,
     "metadata": {},
     "output_type": "execute_result"
    }
   ],
   "source": [
    "# Inlezen van de dataset\n",
    "\n",
    "dataset = pd.read_csv('webserver.csv')\n",
    "dataset.head()"
   ]
  },
  {
   "cell_type": "code",
   "execution_count": 8,
   "metadata": {},
   "outputs": [
    {
     "name": "stdout",
     "output_type": "stream",
     "text": [
      "lambda =  55.24125\n",
      "kans:  0.07037611734435235\n",
      "kans:  0.0006868845528277268\n"
     ]
    }
   ],
   "source": [
    "# a. Bepaal de verwachtingswaarde λ. Gebruik deze waarde in de verdere berekeningen.\n",
    "\n",
    "l = dataset.Requests.mean()\n",
    "print('lambda = ',l)\n",
    "    \n",
    "# b. Bepaal de kans dat de server minder dan 45 requests per seconde te verwerken krijgt.\n",
    "\n",
    "print('kans: ',stats.poisson.cdf(44,l))\n",
    "\n",
    "\n",
    "    \n",
    "# c. Het maximaal aantal requests per seconde die de server kan verwerken ligt op 80...\n",
    "#    ...Bepaal de kans dat de server plat gaat door een teveel aan requests.\n",
    "\n",
    "print('kans: ',1- stats.poisson.cdf(80,l))\n"
   ]
  }
 ],
 "metadata": {
  "kernelspec": {
   "display_name": "Python 3",
   "language": "python",
   "name": "python3"
  },
  "language_info": {
   "codemirror_mode": {
    "name": "ipython",
    "version": 3
   },
   "file_extension": ".py",
   "mimetype": "text/x-python",
   "name": "python",
   "nbconvert_exporter": "python",
   "pygments_lexer": "ipython3",
   "version": "3.7.4"
  }
 },
 "nbformat": 4,
 "nbformat_minor": 4
}
